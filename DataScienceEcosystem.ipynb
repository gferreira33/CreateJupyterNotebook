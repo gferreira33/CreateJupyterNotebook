{
 "cells": [
  {
   "cell_type": "markdown",
   "id": "f3bf2f38-0289-4133-b633-39ab5069f51d",
   "metadata": {
    "jp-MarkdownHeadingCollapsed": true,
    "tags": []
   },
   "source": [
    "Create markdown cell with title of the notebook"
   ]
  },
  {
   "cell_type": "markdown",
   "id": "196d80ee-fa7b-4bd5-a8b9-89a333c59127",
   "metadata": {
    "tags": []
   },
   "source": [
    "# Data Science Tools and Ecosystem"
   ]
  },
  {
   "cell_type": "markdown",
   "id": "888b567e-46f4-44dd-9e04-a6fdce3fd255",
   "metadata": {},
   "source": [
    "Create a markdown cell for an introduction"
   ]
  },
  {
   "cell_type": "markdown",
   "id": "55e878a5-e62c-4bce-960f-9cabaf8171d3",
   "metadata": {},
   "source": [
    "In this notebook, Data Science Tools and Ecosystem are summarized."
   ]
  },
  {
   "cell_type": "markdown",
   "id": "7083e0bf-2a15-4fb9-a8fd-6af131b32eeb",
   "metadata": {},
   "source": [
    "**Objectives:**\n",
    "* Perform arithmetic operations\n",
    "* Create titles with H1 style (maximum size)\n",
    "* Create tables\n",
    "* List data science tools\n",
    "* Create a new notebook with a specific name"
   ]
  },
  {
   "cell_type": "markdown",
   "id": "33315a2f-1f99-420d-abb6-4c54dd2f886f",
   "metadata": {},
   "source": [
    "Create a markdown cell to list data science languages"
   ]
  },
  {
   "cell_type": "markdown",
   "id": "1eea57bf-b325-4758-80ff-9cf77b2ac490",
   "metadata": {},
   "source": [
    "Some of the popular languages that Data Scientists use are:\n",
    "1. Python\n",
    "2. R\n",
    "3. SQL\n",
    "4. Julia"
   ]
  },
  {
   "cell_type": "markdown",
   "id": "2b878db1-842a-4cb1-863f-89e9dc968101",
   "metadata": {},
   "source": [
    "Create a markdown cell to list data science libraries"
   ]
  },
  {
   "cell_type": "markdown",
   "id": "88cbeabf-408b-4850-9e39-16aaa275ec06",
   "metadata": {},
   "source": [
    "Some of the commonly used libraries used by Data Scientists include:\n",
    "1. Pandas\n",
    "2. Matplotlib\n",
    "3. Numpy\n",
    "4. Scikit-learn\n",
    "5. Seaborn"
   ]
  },
  {
   "cell_type": "markdown",
   "id": "1400af87-3e69-418d-a35b-16f44121e8d0",
   "metadata": {},
   "source": [
    "Create a markdown cell with a table of Data Science tools"
   ]
  },
  {
   "cell_type": "markdown",
   "id": "e92bd852-dc7e-49ae-8c67-fa57488444ce",
   "metadata": {
    "tags": []
   },
   "source": [
    "| Data Science Tools |\n",
    "| ------------------ |\n",
    "| Visual Studio Code |\n",
    "| RStudio |\n",
    "| Jupyter Notebook |"
   ]
  },
  {
   "cell_type": "markdown",
   "id": "cb0f33b0-9e7b-41a6-8317-9dd28d0d29b0",
   "metadata": {},
   "source": [
    "Create a markdown cell introducing arithmetic expression examples"
   ]
  },
  {
   "cell_type": "markdown",
   "id": "7b9599fd-f57a-4888-97c4-688eb8a781b9",
   "metadata": {},
   "source": [
    "### Below are a few examples of evaluating arithmetic expressions in Python"
   ]
  },
  {
   "cell_type": "markdown",
   "id": "6d61d149-022c-4e5d-bb22-aef12cbc87bd",
   "metadata": {},
   "source": [
    "Create a code cell to multiply and add numbers"
   ]
  },
  {
   "cell_type": "code",
   "execution_count": 2,
   "id": "95e60b94-6bb0-4b26-a336-10455b2ab991",
   "metadata": {
    "tags": []
   },
   "outputs": [
    {
     "data": {
      "text/plain": [
       "17"
      ]
     },
     "execution_count": 2,
     "metadata": {},
     "output_type": "execute_result"
    }
   ],
   "source": [
    "# This a simple arithmetic expression to mutiply then add integers\n",
    "(3*4)+5"
   ]
  },
  {
   "cell_type": "markdown",
   "id": "aea79474-abba-4449-8630-38f9c700d2ab",
   "metadata": {},
   "source": [
    "Create a code cell to convert minutes to hours"
   ]
  },
  {
   "cell_type": "code",
   "execution_count": 3,
   "id": "87624b4f-a70a-4739-91f5-08e4d425af6a",
   "metadata": {
    "tags": []
   },
   "outputs": [
    {
     "data": {
      "text/plain": [
       "3.3333333333333335"
      ]
     },
     "execution_count": 3,
     "metadata": {},
     "output_type": "execute_result"
    }
   ],
   "source": [
    "#  This will convert 200 minutes to hours by diving by 60\n",
    "200/60"
   ]
  },
  {
   "cell_type": "markdown",
   "id": "ece2d596-620e-4255-bbd2-f2cc53ef1b34",
   "metadata": {},
   "source": [
    "Insert a markdown cell to list Objectives"
   ]
  },
  {
   "cell_type": "markdown",
   "id": "d01b5ee0-30fd-42bd-b7f6-40e2138bb85b",
   "metadata": {},
   "source": [
    "Create a markdown cell to indicate the Author's name"
   ]
  },
  {
   "cell_type": "markdown",
   "id": "46fe45ed-1b76-4704-b850-91b2d8c6554b",
   "metadata": {},
   "source": [
    "## Author\n",
    "Gonçalo Ferreira"
   ]
  }
 ],
 "metadata": {
  "kernelspec": {
   "display_name": "Python",
   "language": "python",
   "name": "conda-env-python-py"
  },
  "language_info": {
   "codemirror_mode": {
    "name": "ipython",
    "version": 3
   },
   "file_extension": ".py",
   "mimetype": "text/x-python",
   "name": "python",
   "nbconvert_exporter": "python",
   "pygments_lexer": "ipython3",
   "version": "3.7.12"
  }
 },
 "nbformat": 4,
 "nbformat_minor": 5
}
